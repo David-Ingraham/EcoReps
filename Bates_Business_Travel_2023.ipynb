{
 "cells": [
  {
   "cell_type": "code",
   "execution_count": 1,
   "metadata": {
    "executionInfo": {
     "elapsed": 239,
     "status": "ok",
     "timestamp": 1697551385523,
     "user": {
      "displayName": "Kyle Sprague",
      "userId": "17784897640663018611"
     },
     "user_tz": 240
    },
    "id": "GoT1jYSua4xa"
   },
   "outputs": [
    {
     "name": "stdout",
     "output_type": "stream",
     "text": [
      "a\n"
     ]
    }
   ],
   "source": [
    "import pandas as pd\n",
    "import numpy as np\n",
    "\n",
    "print('a')\n"
   ]
  },
  {
   "cell_type": "code",
   "execution_count": 2,
   "metadata": {
    "executionInfo": {
     "elapsed": 514,
     "status": "ok",
     "timestamp": 1697551386269,
     "user": {
      "displayName": "Kyle Sprague",
      "userId": "17784897640663018611"
     },
     "user_tz": 240
    },
    "id": "YwdJR9Bma4xd"
   },
   "outputs": [],
   "source": [
    "\n",
    "#makes it so that when you print the data frame, the entire data frame is displayed\n",
    "pd.set_option('display.max_rows', None)\n",
    "pd.set_option('display.max_columns', None)\n",
    "pd.set_option('display.width', None)\n",
    "pd.set_option('display.max_colwidth', None)"
   ]
  },
  {
   "cell_type": "code",
   "execution_count": 3,
   "metadata": {
    "colab": {
     "base_uri": "https://localhost:8080/"
    },
    "executionInfo": {
     "elapsed": 2837,
     "status": "ok",
     "timestamp": 1697551389104,
     "user": {
      "displayName": "Kyle Sprague",
      "userId": "17784897640663018611"
     },
     "user_tz": 240
    },
    "id": "x40c_zjpbVTv",
    "outputId": "edc8f13d-93a9-4bf0-ff07-44c33fe44d49"
   },
   "outputs": [],
   "source": [
    "#from google.colab import drive\n",
    "#drive.mount('/content/drive')"
   ]
  },
  {
   "cell_type": "code",
   "execution_count": 4,
   "metadata": {
    "executionInfo": {
     "elapsed": 1177,
     "status": "ok",
     "timestamp": 1697551390276,
     "user": {
      "displayName": "Kyle Sprague",
      "userId": "17784897640663018611"
     },
     "user_tz": 240
    },
    "id": "MHN5Xapza4xe"
   },
   "outputs": [
    {
     "data": {
      "text/html": [
       "<div>\n",
       "<style scoped>\n",
       "    .dataframe tbody tr th:only-of-type {\n",
       "        vertical-align: middle;\n",
       "    }\n",
       "\n",
       "    .dataframe tbody tr th {\n",
       "        vertical-align: top;\n",
       "    }\n",
       "\n",
       "    .dataframe thead th {\n",
       "        text-align: right;\n",
       "    }\n",
       "</style>\n",
       "<table border=\"1\" class=\"dataframe\">\n",
       "  <thead>\n",
       "    <tr style=\"text-align: right;\">\n",
       "      <th></th>\n",
       "      <th>Unnamed: 0</th>\n",
       "      <th>ident</th>\n",
       "      <th>type</th>\n",
       "      <th>name</th>\n",
       "      <th>elevation_ft</th>\n",
       "      <th>continent</th>\n",
       "      <th>iso_country</th>\n",
       "      <th>iso_region</th>\n",
       "      <th>municipality</th>\n",
       "      <th>gps_code</th>\n",
       "      <th>iata_code</th>\n",
       "      <th>local_code</th>\n",
       "      <th>coordinates</th>\n",
       "    </tr>\n",
       "  </thead>\n",
       "  <tbody>\n",
       "    <tr>\n",
       "      <th>0</th>\n",
       "      <td>0</td>\n",
       "      <td>00AA</td>\n",
       "      <td>small_airport</td>\n",
       "      <td>Aero B Ranch Airport</td>\n",
       "      <td>3435.0</td>\n",
       "      <td>NaN</td>\n",
       "      <td>US</td>\n",
       "      <td>US-KS</td>\n",
       "      <td>Leoti</td>\n",
       "      <td>00AA</td>\n",
       "      <td>NaN</td>\n",
       "      <td>00AA</td>\n",
       "      <td>-101.473911, 38.704022</td>\n",
       "    </tr>\n",
       "    <tr>\n",
       "      <th>1</th>\n",
       "      <td>1</td>\n",
       "      <td>00AK</td>\n",
       "      <td>small_airport</td>\n",
       "      <td>Lowell Field</td>\n",
       "      <td>450.0</td>\n",
       "      <td>NaN</td>\n",
       "      <td>US</td>\n",
       "      <td>US-AK</td>\n",
       "      <td>Anchor Point</td>\n",
       "      <td>00AK</td>\n",
       "      <td>NaN</td>\n",
       "      <td>00AK</td>\n",
       "      <td>-151.695999146, 59.94919968</td>\n",
       "    </tr>\n",
       "    <tr>\n",
       "      <th>2</th>\n",
       "      <td>2</td>\n",
       "      <td>00AL</td>\n",
       "      <td>small_airport</td>\n",
       "      <td>Epps Airpark</td>\n",
       "      <td>820.0</td>\n",
       "      <td>NaN</td>\n",
       "      <td>US</td>\n",
       "      <td>US-AL</td>\n",
       "      <td>Harvest</td>\n",
       "      <td>00AL</td>\n",
       "      <td>NaN</td>\n",
       "      <td>00AL</td>\n",
       "      <td>-86.77030181884766, 34.86479949951172</td>\n",
       "    </tr>\n",
       "    <tr>\n",
       "      <th>3</th>\n",
       "      <td>4</td>\n",
       "      <td>00AS</td>\n",
       "      <td>small_airport</td>\n",
       "      <td>Fulton Airport</td>\n",
       "      <td>1100.0</td>\n",
       "      <td>NaN</td>\n",
       "      <td>US</td>\n",
       "      <td>US-OK</td>\n",
       "      <td>Alex</td>\n",
       "      <td>00AS</td>\n",
       "      <td>NaN</td>\n",
       "      <td>00AS</td>\n",
       "      <td>-97.8180194, 34.9428028</td>\n",
       "    </tr>\n",
       "    <tr>\n",
       "      <th>4</th>\n",
       "      <td>5</td>\n",
       "      <td>00AZ</td>\n",
       "      <td>small_airport</td>\n",
       "      <td>Cordes Airport</td>\n",
       "      <td>3810.0</td>\n",
       "      <td>NaN</td>\n",
       "      <td>US</td>\n",
       "      <td>US-AZ</td>\n",
       "      <td>Cordes</td>\n",
       "      <td>00AZ</td>\n",
       "      <td>NaN</td>\n",
       "      <td>00AZ</td>\n",
       "      <td>-112.16500091552734, 34.305599212646484</td>\n",
       "    </tr>\n",
       "  </tbody>\n",
       "</table>\n",
       "</div>"
      ],
      "text/plain": [
       "   Unnamed: 0 ident           type                  name  elevation_ft  \\\n",
       "0           0  00AA  small_airport  Aero B Ranch Airport        3435.0   \n",
       "1           1  00AK  small_airport          Lowell Field         450.0   \n",
       "2           2  00AL  small_airport          Epps Airpark         820.0   \n",
       "3           4  00AS  small_airport        Fulton Airport        1100.0   \n",
       "4           5  00AZ  small_airport        Cordes Airport        3810.0   \n",
       "\n",
       "  continent iso_country iso_region  municipality gps_code iata_code  \\\n",
       "0       NaN          US      US-KS         Leoti     00AA       NaN   \n",
       "1       NaN          US      US-AK  Anchor Point     00AK       NaN   \n",
       "2       NaN          US      US-AL       Harvest     00AL       NaN   \n",
       "3       NaN          US      US-OK          Alex     00AS       NaN   \n",
       "4       NaN          US      US-AZ        Cordes     00AZ       NaN   \n",
       "\n",
       "  local_code                              coordinates  \n",
       "0       00AA                   -101.473911, 38.704022  \n",
       "1       00AK              -151.695999146, 59.94919968  \n",
       "2       00AL    -86.77030181884766, 34.86479949951172  \n",
       "3       00AS                  -97.8180194, 34.9428028  \n",
       "4       00AZ  -112.16500091552734, 34.305599212646484  "
      ]
     },
     "execution_count": 4,
     "metadata": {},
     "output_type": "execute_result"
    }
   ],
   "source": [
    "# loading database of airport codes with location\n",
    "# source: datahub, airport codes, https://datahub.io/core/airport-codes#python\n",
    "airports_df = pd.read_csv('airportCodesTypeFiltered.csv')\n",
    "\n",
    "# loading origin and destination of flights taken by bates employees\n",
    "travel_df_init = pd.read_excel(\"JPM Airline Activity 7.1.22 - 6.30.23 Data Conversion.xlsx\")\n",
    " #creating two empty dataframes for origin and destination\n",
    "#IATA codes\n",
    "#travel_df_init\n",
    "airports_df.head()"
   ]
  },
  {
   "cell_type": "code",
   "execution_count": 15,
   "metadata": {
    "colab": {
     "base_uri": "https://localhost:8080/",
     "height": 1000
    },
    "executionInfo": {
     "elapsed": 841,
     "status": "ok",
     "timestamp": 1697551391105,
     "user": {
      "displayName": "Kyle Sprague",
      "userId": "17784897640663018611"
     },
     "user_tz": 240
    },
    "id": "T3LTbTGFa4xf",
    "outputId": "461588fb-374d-4a11-94e6-4dff4944458a"
   },
   "outputs": [
    {
     "name": "stdout",
     "output_type": "stream",
     "text": [
      "321.98\n"
     ]
    }
   ],
   "source": [
    "def cleaning(travel_df_init):\n",
    "    '''\n",
    "        The purpose of this function is to perform three cleaning operations given a travel data file\n",
    "        inputed as a data frame.\n",
    "\n",
    "        Inputs:\n",
    "            travel_df: a data frame containing the travel file information in its entirity\n",
    "            origins_df: a data frame with just the origination column of the travel file\n",
    "            dest_df: a data frame containing just the destination column of the travel file\n",
    "\n",
    "        Returns:\n",
    "            an updated data frame with redundant and false data redacted\n",
    "    '''\n",
    "    travel_copy = travel_df_init.copy()\n",
    "    travel_df_init[\"Comparison\"] = travel_df_init[\"Origination\"] == travel_df_init[\"Destination\"]\n",
    "    #creating a new column in the travel data frame  with just the origin with true/False\n",
    "    #depending on where the origination entry in each row is equal to the destination entry in\n",
    "    #the same row\n",
    "    #print(travel_df_init.where(travel_df_init[\"Comparison\"] == True))\n",
    "\n",
    "    if travel_df_init[\"Comparison\"].any() == True: #if any value in the comparison column is true\n",
    "        ##BROKENNN!!!!!!!!!!!!!!!!!!!!!!!!!!!!!!!!!!!!!\n",
    "        orig_eq_dest_row = (travel_copy[travel_copy[\"Origination\"] == travel_copy[\"Destination\"]].index.values)\n",
    "        #orig_eq_dest_row represents the row in the travel file copy where the Origin and Destination\n",
    "        #are the same for a row\n",
    "        #travel_copy = (travel_copy.drop(orig_eq_dest_row, axis = 0))\n",
    "        travel_copy = travel_copy.drop(orig_eq_dest_row)\n",
    "        print(travel_copy[\"Referenced Transaction Amount\"][0])\n",
    "        travel_copy = travel_copy[travel_copy['Referenced Transaction Amount'] >= 90]\n",
    "\n",
    "    #if travel_df_init[\"Ticket Number\"].isna().any() == True:\n",
    "    #figure out how to trop rows where this is the case\n",
    "    #travel_copy = travel_copy.drop_duplicates(subset = [\"Origination\", \"Destination\", \"Ticket Number\"])\n",
    "    #duplicate_df = travel_copy.drop_duplicated(subset = [\"Origination\", \"Destination\", \"Ticket Number\"])\n",
    "    #print(duplicate_df.shape[0])\n",
    "    #print(result_df.join(travel_copy))\n",
    "\n",
    "    #KYLE: THIS MIGHT BE UNNECESSARY 10/10/2023 travel_copy = travel_copy.drop_duplicates(subset = ['Origination', 'Destination', 'Ticket Number'])\n",
    "\n",
    "    #print(travel_copy.drop_duplicates(subset = ['Origination', 'Destination', 'Ticket Number']))\n",
    "\n",
    "\n",
    "    #drop the second row (in terms of appearance) where the origination, destination, and ticket number\n",
    "    #are the smame\n",
    "    #display(travel_copy)\n",
    "    return travel_copy\n",
    "\n",
    "flights_df = cleaning(travel_df_init)\n",
    "#display(flights_df.shape[0])\n",
    "#display(flights_df)\n",
    "#print(flights_df)\n",
    "#print(f\"The new travel data frame is\")\n",
    "#display(flights_df)\n",
    "origins_df, destination_df = pd.DataFrame(), pd.DataFrame()\n",
    "origins_df['Origination'] = flights_df['Origination'] #Taking the origin column from the travel file and putting it into\n",
    "#the new empty data frame\n",
    "destination_df['Destination'] = flights_df['Destination']\n",
    "\n",
    "#to test, we are going to compare the length of this data frame to the number of columns in the original file - the number of problematic rows in the testing file."
   ]
  },
  {
   "cell_type": "code",
   "execution_count": 16,
   "metadata": {
    "executionInfo": {
     "elapsed": 4,
     "status": "ok",
     "timestamp": 1697551391105,
     "user": {
      "displayName": "Kyle Sprague",
      "userId": "17784897640663018611"
     },
     "user_tz": 240
    },
    "id": "0UxkqCdXa4xg"
   },
   "outputs": [],
   "source": [
    "\n",
    "def find_airport(airport_code):\n",
    "    '''\n",
    "    input:\n",
    "    airport_code: IATO code for an airport\n",
    "    returns:\n",
    "    df: dataframe or series filtered by the given airport_code\n",
    "    '''\n",
    "\n",
    "    '''\n",
    "    df = airports_df[airports_df['ident'].str.endswith(f'{airport_code}')] #this gives us the row in airport codes where the airport\n",
    "    #in the origin/destination dataframe's airport is found. It looks at the ident row which corresponds to IACA codes then\n",
    "    #returns the whole row where the airport is found at the end of the ident string\n",
    "    '''\n",
    "    #print(f'The airport code in the Origination/Destination column is {airport_code}')\n",
    "    df = airports_df[airports_df['iata_code'].str.contains(airport_code, na = False)] #add lines to the new data frame which contain\n",
    "    #the identified IATA code and replace unknown elements (hence, na = False) in the line with NaN\n",
    "    return df\n",
    "\n",
    "\n",
    "\n",
    "def find_coordinates(airport_code) -> list:\n",
    "    '''\n",
    "    input:\n",
    "    airport_code: IATO code for an airport\n",
    "    returns:\n",
    "    coord: longitude and latitude corresponding to the given airport\n",
    "\n",
    "    '''\n",
    "\n",
    "    airport = find_airport(airport_code)\n",
    "    if len(airport.index) == 0:\n",
    "      return np.nan\n",
    "\n",
    "\n",
    "    coord =  airport['coordinates'].values #gets the coordinate pair for each row that is identified to be associated with\n",
    "    #a particular IATA code; note that this means we can have multiple entries associated with the coord variable for a single\n",
    "   #airport such that coord > 1; coord is an array\n",
    "    #print(f\"coord is {coord}\")\n",
    "\n",
    "    if coord.size > 1:\n",
    "        countries = airport['iso_country'].values\n",
    "        if 'US' in countries:\n",
    "            coord = airport[airport['iso_country'] == 'US']['coordinates'].values #select the coord with US for an iso_country\n",
    "        else:\n",
    "            display(airport)\n",
    "            correct_name = input(\"Please enter the name of the correct airport\")\n",
    "            coord = airport[airport['name'] == correct_name]['coordinates'].values\n",
    "\n",
    "    if coord.size == 0:\n",
    "        return np.nan\n",
    "\n",
    "    coord = [float(axis) for axis in coord[0].split(',')] #splits each string pair at the comma then converts the entries to a\n",
    "    #float; returns a list of floats\n",
    "\n",
    "    return coord\n"
   ]
  },
  {
   "cell_type": "code",
   "execution_count": 18,
   "metadata": {
    "colab": {
     "base_uri": "https://localhost:8080/",
     "height": 1000
    },
    "executionInfo": {
     "elapsed": 366160,
     "status": "ok",
     "timestamp": 1697551757262,
     "user": {
      "displayName": "Kyle Sprague",
      "userId": "17784897640663018611"
     },
     "user_tz": 240
    },
    "id": "EfiaW5xsa4xh",
    "outputId": "45b9ffa8-dc7f-4d28-f585-6fe8cd4e484b",
    "scrolled": true
   },
   "outputs": [
    {
     "name": "stdout",
     "output_type": "stream",
     "text": [
      "2664\n"
     ]
    }
   ],
   "source": [
    "# finding coordinates of origin and destination airports\n",
    "origins_df['coordinates'] = origins_df['Origination'].apply(find_coordinates) #this means that origins_df is treated\n",
    "#as the airport code in def find_coordinates; since find_coordinates and find_airport are in the same block, find_airport also\n",
    "#gets access to airport_code# I guess by default the apply function works down each row\n",
    "destination_df['coordinates'] = destination_df['Destination'].apply(find_coordinates)\n",
    "\n",
    "#display(origins_df)\n",
    "#display(destination_df)\n",
    "print(len(origins_df))\n",
    "origins_df.dropna(axis = 0, how = \"any\", inplace = True ) #dropping rows for which airports could not be identified\n",
    "destination_df.dropna(axis = 0, how = \"any\", inplace = True)\n",
    "#display(origins_df)\n",
    "\n",
    "# extracting latitude and longitude data from coordinates\n",
    "origins_df['long'] = origins_df['coordinates'].apply(lambda c: c[0]) #essentially, take the origins_df coordinate column,\n",
    "#which currently contains lattitude and longitude information, grab the longitude information, and assign it to a new\n",
    "#column called 'long' which refers to origination airport longitude data\n",
    "origins_df['lat'] = origins_df['coordinates'].apply(lambda c: c[1])\n",
    "destination_df['long'] = destination_df['coordinates'].apply(lambda c: c[0])\n",
    "destination_df['lat'] = destination_df['coordinates'].apply(lambda c: c[1])"
   ]
  },
  {
   "cell_type": "code",
   "execution_count": 8,
   "metadata": {
    "colab": {
     "base_uri": "https://localhost:8080/"
    },
    "executionInfo": {
     "elapsed": 14,
     "status": "ok",
     "timestamp": 1697551757263,
     "user": {
      "displayName": "Kyle Sprague",
      "userId": "17784897640663018611"
     },
     "user_tz": 240
    },
    "id": "Y5V1AWeMa4xi",
    "outputId": "66b60b6f-3b14-43b1-dd16-592f20001642",
    "scrolled": true
   },
   "outputs": [
    {
     "data": {
      "text/plain": [
       "True"
      ]
     },
     "execution_count": 8,
     "metadata": {},
     "output_type": "execute_result"
    }
   ],
   "source": [
    "# checkinig that all observations have exactly one lat/long coordinate\n",
    "origins_df[origins_df['coordinates'].apply(lambda c: True if len(c) == 2 else False)].size/4 == origins_df.size/4"
   ]
  },
  {
   "cell_type": "code",
   "execution_count": 9,
   "metadata": {
    "executionInfo": {
     "elapsed": 10,
     "status": "ok",
     "timestamp": 1697551757263,
     "user": {
      "displayName": "Kyle Sprague",
      "userId": "17784897640663018611"
     },
     "user_tz": 240
    },
    "id": "50P_Hy7Ya4xi"
   },
   "outputs": [],
   "source": [
    "def find_dist(locs) -> float:\n",
    "    '''\n",
    "    input:\n",
    "    locs: dataframe consisting of origin and destination locations in lat/long coordinates\n",
    "    returns:\n",
    "    flight_distance: distance between two sets of lat/long coordinates as calculated usig haversine formula\n",
    "    '''\n",
    "    lat1, lon1, lat2, lon2 = np.radians(\n",
    "        [locs['o_lat'], locs['o_long'], locs['d_lat'], locs['d_long']])\n",
    "\n",
    "    earth_radius = 6371 # 6.3781×106 m\n",
    "    a = np.sin((lat2-lat1)/2.0)**2 + \\\n",
    "        np.cos(lat1) * np.cos(lat2) * np.sin((lon2-lon1)/2.0)**2\n",
    "    flight_distance = earth_radius * 2 * np.arcsin(np.sqrt(a))\n",
    "\n",
    "    return flight_distance"
   ]
  },
  {
   "cell_type": "code",
   "execution_count": 10,
   "metadata": {
    "colab": {
     "base_uri": "https://localhost:8080/"
    },
    "executionInfo": {
     "elapsed": 10,
     "status": "ok",
     "timestamp": 1697551757263,
     "user": {
      "displayName": "Kyle Sprague",
      "userId": "17784897640663018611"
     },
     "user_tz": 240
    },
    "id": "ChuEUtwra4xj",
    "outputId": "1f59ca8c-adfe-4deb-be4d-5d6056915c89"
   },
   "outputs": [
    {
     "name": "stdout",
     "output_type": "stream",
     "text": [
      "Total flight distance travelled is 2714250.9 miles.\n"
     ]
    }
   ],
   "source": [
    "# creating new datafram for calculating distance\n",
    "dist_df = pd.DataFrame()\n",
    "dist_df[['Origination','o_long','o_lat']] = origins_df[['Origination','long','lat']]\n",
    "dist_df[['Destination','d_long','d_lat']] = destination_df[['Destination','long','lat']]\n",
    "\n",
    "# finding distance\n",
    "dist_df['distance (km)'] = dist_df.apply(find_dist, axis=1) #axis = 1 means move across the colums to grab data for find_dist\n",
    "dist_df['distance (miles)'] = 0.621371 * dist_df['distance (km)']\n",
    "\n",
    "# sum of all distances in miles\n",
    "total_dist = dist_df['distance (miles)'].sum()\n",
    "print(f'Total flight distance travelled is {total_dist:.1f} miles.') #.1f reduces precision to 1 digit; hence result\n",
    "#prints with 1 decimal point"
   ]
  },
  {
   "cell_type": "code",
   "execution_count": 11,
   "metadata": {
    "executionInfo": {
     "elapsed": 9,
     "status": "ok",
     "timestamp": 1697551757264,
     "user": {
      "displayName": "Kyle Sprague",
      "userId": "17784897640663018611"
     },
     "user_tz": 240
    },
    "id": "mJqeortHa4xk"
   },
   "outputs": [],
   "source": [
    "def find_type(distance):\n",
    "    '''\n",
    "    input:\n",
    "    distance: distance between origin and destination in miles\n",
    "    return:\n",
    "    flight type based on lenght: short, med, or long\n",
    "    '''\n",
    "    short, long = 300, 2300\n",
    "    if distance <= short:\n",
    "        return 'short'\n",
    "    elif distance <= long:\n",
    "        return 'med'\n",
    "    else:\n",
    "        return 'long'\n"
   ]
  },
  {
   "cell_type": "code",
   "execution_count": 12,
   "metadata": {
    "executionInfo": {
     "elapsed": 256,
     "status": "ok",
     "timestamp": 1697551757512,
     "user": {
      "displayName": "Kyle Sprague",
      "userId": "17784897640663018611"
     },
     "user_tz": 240
    },
    "id": "feJlQA_fa4xk"
   },
   "outputs": [],
   "source": [
    "# catagorizing flight as short, med or long\n",
    "dist_df['type'] = dist_df['distance (miles)'].apply(find_type)"
   ]
  },
  {
   "cell_type": "code",
   "execution_count": 13,
   "metadata": {
    "executionInfo": {
     "elapsed": 13,
     "status": "ok",
     "timestamp": 1697551757513,
     "user": {
      "displayName": "Kyle Sprague",
      "userId": "17784897640663018611"
     },
     "user_tz": 240
    },
    "id": "fRDlFELCa4xl"
   },
   "outputs": [],
   "source": [
    "def emission_factor(flight_type):\n",
    "    '''\n",
    "    input:\n",
    "    flight_type: short, med, long\n",
    "    return:\n",
    "    factor: CO2 per passenger per mile\n",
    "    '''\n",
    "    # source: Emission Factors for Greenhouse Gas Inventories, US. Environmental protection Agency in ton CO2/pass mile (Biruk)\n",
    "    factor = {'short': 0.0002091268, 'med': 0.0001302368, 'long': 0.0001645646} #UPDATED AS OF 10/17/2023\n",
    "    return factor[flight_type] #essentially, after the factor is found, return the correct factor given the input flight type\n"
   ]
  },
  {
   "cell_type": "code",
   "execution_count": 14,
   "metadata": {
    "colab": {
     "base_uri": "https://localhost:8080/"
    },
    "executionInfo": {
     "elapsed": 12,
     "status": "ok",
     "timestamp": 1697551757513,
     "user": {
      "displayName": "Kyle Sprague",
      "userId": "17784897640663018611"
     },
     "user_tz": 240
    },
    "id": "BKv8Weaga4xl",
    "outputId": "24b7c149-e570-40e8-9ef8-5a553a6f5463"
   },
   "outputs": [
    {
     "name": "stdout",
     "output_type": "stream",
     "text": [
      "Total emission from all flights is 393.0 ton CO2e\n"
     ]
    }
   ],
   "source": [
    "# assigning emision factor based on flight distance type\n",
    "dist_df['emission_factor'] = dist_df['type'].apply(emission_factor)\n",
    "\n",
    "# calculating emission for each flight\n",
    "dist_df['emission'] = dist_df['distance (miles)']*dist_df['emission_factor']\n",
    "\n",
    "# calculating total emssion from all flights\n",
    "total_emission = dist_df['emission'].sum()\n",
    "print(f'Total emission from all flights is {total_emission:.1f} ton CO2e') #change wording to kg if applicable"
   ]
  },
  {
   "cell_type": "markdown",
   "metadata": {
    "id": "f1dEGUw6a4xl"
   },
   "source": [
    "## Final Result:\n",
    "Total emission from all flights is **10876.8** kg of CO2."
   ]
  },
  {
   "cell_type": "code",
   "execution_count": null,
   "metadata": {
    "executionInfo": {
     "elapsed": 11,
     "status": "ok",
     "timestamp": 1697551757513,
     "user": {
      "displayName": "Kyle Sprague",
      "userId": "17784897640663018611"
     },
     "user_tz": 240
    },
    "id": "ZAQpxI4za4xm"
   },
   "outputs": [],
   "source": [
    "\n",
    "\n",
    "\n"
   ]
  },
  {
   "cell_type": "code",
   "execution_count": null,
   "metadata": {
    "executionInfo": {
     "elapsed": 11,
     "status": "ok",
     "timestamp": 1697551757514,
     "user": {
      "displayName": "Kyle Sprague",
      "userId": "17784897640663018611"
     },
     "user_tz": 240
    },
    "id": "gUQerjE-a4xn"
   },
   "outputs": [],
   "source": []
  },
  {
   "cell_type": "code",
   "execution_count": null,
   "metadata": {
    "executionInfo": {
     "elapsed": 10,
     "status": "aborted",
     "timestamp": 1697551287757,
     "user": {
      "displayName": "Kyle Sprague",
      "userId": "17784897640663018611"
     },
     "user_tz": 240
    },
    "id": "Fn0G7XbAa4xn"
   },
   "outputs": [],
   "source": []
  },
  {
   "cell_type": "code",
   "execution_count": null,
   "metadata": {
    "id": "TguVe9U3a4xn"
   },
   "outputs": [],
   "source": []
  },
  {
   "cell_type": "code",
   "execution_count": null,
   "metadata": {
    "id": "qjlloLIta4xp"
   },
   "outputs": [],
   "source": []
  },
  {
   "cell_type": "code",
   "execution_count": null,
   "metadata": {
    "id": "9k_KpunTa4xp"
   },
   "outputs": [],
   "source": []
  },
  {
   "cell_type": "code",
   "execution_count": null,
   "metadata": {
    "id": "oSuJWSXEa4xp"
   },
   "outputs": [],
   "source": []
  },
  {
   "cell_type": "code",
   "execution_count": null,
   "metadata": {
    "id": "CKnc-3JTa4xp"
   },
   "outputs": [],
   "source": []
  },
  {
   "cell_type": "code",
   "execution_count": null,
   "metadata": {
    "id": "aFxob58ya4xp"
   },
   "outputs": [],
   "source": []
  },
  {
   "cell_type": "code",
   "execution_count": null,
   "metadata": {
    "id": "0f9Jodi4a4xr"
   },
   "outputs": [],
   "source": []
  },
  {
   "cell_type": "code",
   "execution_count": null,
   "metadata": {
    "id": "_paktenZa4xr"
   },
   "outputs": [],
   "source": []
  },
  {
   "cell_type": "code",
   "execution_count": null,
   "metadata": {},
   "outputs": [],
   "source": []
  }
 ],
 "metadata": {
  "colab": {
   "provenance": []
  },
  "kernelspec": {
   "display_name": "Python 3 (ipykernel)",
   "language": "python",
   "name": "python3"
  },
  "language_info": {
   "codemirror_mode": {
    "name": "ipython",
    "version": 3
   },
   "file_extension": ".py",
   "mimetype": "text/x-python",
   "name": "python",
   "nbconvert_exporter": "python",
   "pygments_lexer": "ipython3",
   "version": "3.8.8"
  }
 },
 "nbformat": 4,
 "nbformat_minor": 4
}
